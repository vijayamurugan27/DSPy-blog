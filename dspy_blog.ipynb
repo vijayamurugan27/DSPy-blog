{
 "cells": [
  {
   "cell_type": "markdown",
   "metadata": {
    "id": "30HpfBTByN9z"
   },
   "source": [
    "This notebook introduces DSPy for a simple few-shot prompt engineering example"
   ]
  },
  {
   "cell_type": "markdown",
   "metadata": {
    "id": "-PgmV7gVyN90"
   },
   "source": [
    "### Setting Up"
   ]
  },
  {
   "cell_type": "code",
   "execution_count": 1,
   "metadata": {},
   "outputs": [],
   "source": [
    "import dspy\n",
    "from groq import Groq\n",
    "\n",
    "\n",
    "from dotenv import load_dotenv, dotenv_values \n",
    "# loading variables from .env file\n",
    "load_dotenv() \n",
    "import os\n",
    "\n",
    "model = os.getenv('model')\n",
    "api_key = os.getenv('GROQ_API_KEY')\n",
    "\n",
    "\n",
    "lm = dspy.GROQ(model=model, api_key=api_key)\n",
    "dspy.configure(lm=lm)"
   ]
  },
  {
   "cell_type": "code",
   "execution_count": 2,
   "metadata": {
    "colab": {
     "base_uri": "https://localhost:8080/"
    },
    "id": "8F-oqNAFty5M",
    "outputId": "bf9104db-bd27-4067-e156-d308b28a86d8"
   },
   "outputs": [],
   "source": [
    "# !pip install -U pip\n",
    "# !pip install dspy-ai\n",
    "# !pip install openai~=0.28.1\n",
    "# # !pip install -e $repo_path\n",
    "\n",
    "import dspy\n",
    "import sys\n",
    "import os\n",
    "import json"
   ]
  },
  {
   "cell_type": "markdown",
   "metadata": {
    "id": "fmftMyWCyN91"
   },
   "source": [
    "### Getting Started\n",
    "\n",
    "We'll start by setting up the language model (LM). **DSPy** supports multiple API and local models. In this notebook, we'll work with GPT-3.5 (`gpt-3.5-turbo`).\n"
   ]
  },
  {
   "cell_type": "markdown",
   "metadata": {},
   "source": [
    "# forf those using OpenAi"
   ]
  },
  {
   "cell_type": "code",
   "execution_count": null,
   "metadata": {
    "id": "XhphuMDeyN91"
   },
   "outputs": [],
   "source": [
    "# turbo = dspy.OpenAI(model='gpt-3.5-turbo',api_key =\"\")\n",
    "\n",
    "# dspy.settings.configure(lm=turbo)\n"
   ]
  },
  {
   "cell_type": "code",
   "execution_count": null,
   "metadata": {
    "colab": {
     "base_uri": "https://localhost:8080/"
    },
    "id": "QdEmkMmNxcfs",
    "outputId": "086b0e1c-7bd7-4316-a72e-8302509bfa4c"
   },
   "outputs": [
    {
     "name": "stderr",
     "output_type": "stream",
     "text": [
      "Cloning into 'transformerQA-finetuning'...\n"
     ]
    }
   ],
   "source": [
    "# #loading in the data\n",
    "# !git clone https://github.com/skandavivek/transformerQA-finetuning.git"
   ]
  },
  {
   "cell_type": "code",
   "execution_count": 5,
   "metadata": {
    "id": "GznA0otm98OK"
   },
   "outputs": [],
   "source": [
    "import pandas as pd\n",
    "df = pd.read_csv('train.csv')\n"
   ]
  },
  {
   "cell_type": "code",
   "execution_count": 6,
   "metadata": {
    "colab": {
     "base_uri": "https://localhost:8080/"
    },
    "id": "ZPtHrWNmAbiE",
    "outputId": "1adda058-53a1-4a43-cfab-95accfcdffb4"
   },
   "outputs": [
    {
     "data": {
      "text/plain": [
       "0                                      ANSWERNOTFOUND\n",
       "1                                      ANSWERNOTFOUND\n",
       "2                                      ANSWERNOTFOUND\n",
       "3                            this show is OUTSTANDING\n",
       "4       The costume design by Susan Matheson is great\n",
       "                            ...                      \n",
       "2496                                   ANSWERNOTFOUND\n",
       "2497                                   ANSWERNOTFOUND\n",
       "2498                                   ANSWERNOTFOUND\n",
       "2499                                   ANSWERNOTFOUND\n",
       "2500                                   ANSWERNOTFOUND\n",
       "Name: human_ans_spans, Length: 2501, dtype: object"
      ]
     },
     "execution_count": 6,
     "metadata": {},
     "output_type": "execute_result"
    }
   ],
   "source": [
    "#as you can see, there are 2 types of answers - one is ANSWERNOTFOUND, the other is when the extracted answer is present\n",
    "df['human_ans_spans'].astype(str)"
   ]
  },
  {
   "cell_type": "code",
   "execution_count": 7,
   "metadata": {
    "id": "JiXg4zFOAEy_"
   },
   "outputs": [],
   "source": [
    "df1=df.loc[df['human_ans_spans']=='ANSWERNOTFOUND'].reset_index(drop=True)\n",
    "df2=df.loc[df['human_ans_spans']!='ANSWERNOTFOUND'].reset_index(drop=True)\n"
   ]
  },
  {
   "cell_type": "code",
   "execution_count": 8,
   "metadata": {
    "colab": {
     "base_uri": "https://localhost:8080/",
     "height": 300
    },
    "id": "wHwlMa9f-Arr",
    "outputId": "6d0e2296-6e74-4a1f-921b-e3949fe2588e"
   },
   "outputs": [
    {
     "data": {
      "text/html": [
       "<div>\n",
       "<style scoped>\n",
       "    .dataframe tbody tr th:only-of-type {\n",
       "        vertical-align: middle;\n",
       "    }\n",
       "\n",
       "    .dataframe tbody tr th {\n",
       "        vertical-align: top;\n",
       "    }\n",
       "\n",
       "    .dataframe thead th {\n",
       "        text-align: right;\n",
       "    }\n",
       "</style>\n",
       "<table border=\"1\" class=\"dataframe\">\n",
       "  <thead>\n",
       "    <tr style=\"text-align: right;\">\n",
       "      <th></th>\n",
       "      <th>question</th>\n",
       "      <th>context</th>\n",
       "      <th>answer</th>\n",
       "    </tr>\n",
       "  </thead>\n",
       "  <tbody>\n",
       "    <tr>\n",
       "      <th>0</th>\n",
       "      <td>Who is the author of this series?</td>\n",
       "      <td>Whether it be in her portrayal of a nerdy lesb...</td>\n",
       "      <td>ANSWERNOTFOUND</td>\n",
       "    </tr>\n",
       "    <tr>\n",
       "      <th>1</th>\n",
       "      <td>Is this series good and excelent?</td>\n",
       "      <td>At the time of my review, there had been 910 c...</td>\n",
       "      <td>this show is OUTSTANDING</td>\n",
       "    </tr>\n",
       "    <tr>\n",
       "      <th>2</th>\n",
       "      <td>How is the costume design?</td>\n",
       "      <td>\"Fright Night\" is great! This is how the story...</td>\n",
       "      <td>The costume design by Susan Matheson is great</td>\n",
       "    </tr>\n",
       "    <tr>\n",
       "      <th>3</th>\n",
       "      <td>Can we enjoy the movie along with our family ?</td>\n",
       "      <td>An outstanding romantic comedy, 13 Going on 30...</td>\n",
       "      <td>ANSWERNOTFOUND</td>\n",
       "    </tr>\n",
       "    <tr>\n",
       "      <th>4</th>\n",
       "      <td>What criticism deserves the movie Passion of C...</td>\n",
       "      <td>Revenge of the Sith is for children and for ad...</td>\n",
       "      <td>Oh my god is this a STUPID film</td>\n",
       "    </tr>\n",
       "    <tr>\n",
       "      <th>5</th>\n",
       "      <td>Does this one good?</td>\n",
       "      <td>To let the truth be known, I watched this movi...</td>\n",
       "      <td>ANSWERNOTFOUND</td>\n",
       "    </tr>\n",
       "    <tr>\n",
       "      <th>6</th>\n",
       "      <td>How are the special effects?</td>\n",
       "      <td>As with all Star Wars (or science fiction) mov...</td>\n",
       "      <td>ANSWERNOTFOUND</td>\n",
       "    </tr>\n",
       "    <tr>\n",
       "      <th>7</th>\n",
       "      <td>How is the scene?</td>\n",
       "      <td>The best KingKong movie ever made in my opinio...</td>\n",
       "      <td>KingKong</td>\n",
       "    </tr>\n",
       "  </tbody>\n",
       "</table>\n",
       "</div>"
      ],
      "text/plain": [
       "                                            question  \\\n",
       "0                  Who is the author of this series?   \n",
       "1                  Is this series good and excelent?   \n",
       "2                         How is the costume design?   \n",
       "3     Can we enjoy the movie along with our family ?   \n",
       "4  What criticism deserves the movie Passion of C...   \n",
       "5                                Does this one good?   \n",
       "6                       How are the special effects?   \n",
       "7                                  How is the scene?   \n",
       "\n",
       "                                             context  \\\n",
       "0  Whether it be in her portrayal of a nerdy lesb...   \n",
       "1  At the time of my review, there had been 910 c...   \n",
       "2  \"Fright Night\" is great! This is how the story...   \n",
       "3  An outstanding romantic comedy, 13 Going on 30...   \n",
       "4  Revenge of the Sith is for children and for ad...   \n",
       "5  To let the truth be known, I watched this movi...   \n",
       "6  As with all Star Wars (or science fiction) mov...   \n",
       "7  The best KingKong movie ever made in my opinio...   \n",
       "\n",
       "                                          answer  \n",
       "0                                 ANSWERNOTFOUND  \n",
       "1                       this show is OUTSTANDING  \n",
       "2  The costume design by Susan Matheson is great  \n",
       "3                                 ANSWERNOTFOUND  \n",
       "4                Oh my god is this a STUPID film  \n",
       "5                                 ANSWERNOTFOUND  \n",
       "6                                 ANSWERNOTFOUND  \n",
       "7                                       KingKong  "
      ]
     },
     "execution_count": 8,
     "metadata": {},
     "output_type": "execute_result"
    }
   ],
   "source": [
    "df1=df1[:4][['question','review','human_ans_spans']]\n",
    "df2=df2[:4][['question','review','human_ans_spans']]\n",
    "\n",
    "df1.columns=['question','context','answer']\n",
    "\n",
    "df2.columns=['question','context','answer']\n",
    "df_c=pd.concat([df1,df2]).sort_index().reset_index(drop=True)\n",
    "df_c\n"
   ]
  },
  {
   "cell_type": "code",
   "execution_count": 9,
   "metadata": {
    "id": "9qX49jgtCkQj"
   },
   "outputs": [],
   "source": [
    "qa_pairs = json.loads(df_c.to_json(orient=\"records\"))"
   ]
  },
  {
   "cell_type": "code",
   "execution_count": 10,
   "metadata": {
    "colab": {
     "base_uri": "https://localhost:8080/"
    },
    "id": "GdhDxdvg_tv1",
    "outputId": "8797e151-1115-444e-e3ee-ff57d98c3986"
   },
   "outputs": [
    {
     "data": {
      "text/plain": [
       "{'question': 'Who is the author of this series?',\n",
       " 'context': \"Whether it be in her portrayal of a nerdy lesbian or a punk rock rebel, Maslany's plural personalities, (though very stereotypical), are entertaining eye-candy. Combined with a complex and unpredictable plot line, this show is surprisingly addictive. ANSWERNOTFOUND\",\n",
       " 'answer': 'ANSWERNOTFOUND'}"
      ]
     },
     "execution_count": 10,
     "metadata": {},
     "output_type": "execute_result"
    }
   ],
   "source": [
    "qa_pairs[0]"
   ]
  },
  {
   "cell_type": "code",
   "execution_count": 11,
   "metadata": {
    "id": "og-d3Ix7-oAC"
   },
   "outputs": [],
   "source": [
    "# Create dataset\n",
    "dataset = [dspy.Example(x).with_inputs('question','context') for x in qa_pairs]\n",
    "\n",
    "trainset = [x.with_inputs('question','context') for x in dataset[:4]]\n",
    "devset = [x.with_inputs('question','context') for x in dataset[4:]]"
   ]
  },
  {
   "cell_type": "code",
   "execution_count": 12,
   "metadata": {
    "colab": {
     "base_uri": "https://localhost:8080/"
    },
    "id": "kQOdE_xfyN94",
    "outputId": "08222942-0920-49fb-8a0b-305665208f77"
   },
   "outputs": [
    {
     "name": "stdout",
     "output_type": "stream",
     "text": [
      "Question: Who is the author of this series?\n",
      "Context: Whether it be in her portrayal of a nerdy lesbian or a punk rock rebel, Maslany's plural personalities, (though very stereotypical), are entertaining eye-candy. Combined with a complex and unpredictable plot line, this show is surprisingly addictive. ANSWERNOTFOUND\n",
      "Answer: ANSWERNOTFOUND\n"
     ]
    }
   ],
   "source": [
    "train_example = trainset[0]\n",
    "print(f\"Question: {train_example.question}\")\n",
    "print(f\"Context: {train_example.context}\")\n",
    "print(f\"Answer: {train_example.answer}\")"
   ]
  },
  {
   "cell_type": "code",
   "execution_count": 13,
   "metadata": {
    "id": "VgbFTSA-yN94"
   },
   "outputs": [],
   "source": [
    "dev_example = devset[0]\n"
   ]
  },
  {
   "cell_type": "markdown",
   "metadata": {
    "id": "OV8V39XiyN94"
   },
   "source": [
    "After loading the raw data, we'd applied `x.with_inputs('question')` to each example to tell **DSPy** that our input field in each example will be just `question`. Any other fields are labels or metadata that are not given to the system."
   ]
  },
  {
   "cell_type": "code",
   "execution_count": 14,
   "metadata": {
    "colab": {
     "base_uri": "https://localhost:8080/"
    },
    "id": "C_7A87dYyN94",
    "outputId": "da9b4ff7-0ca7-408e-8d44-244495977624"
   },
   "outputs": [
    {
     "name": "stdout",
     "output_type": "stream",
     "text": [
      "For this dataset, training examples have input keys ['question', 'context'] and label keys ['answer']\n",
      "For this dataset, dev examples have input keys ['question', 'context'] and label keys ['answer']\n"
     ]
    }
   ],
   "source": [
    "print(f\"For this dataset, training examples have input keys {train_example.inputs().keys()} and label keys {train_example.labels().keys()}\")\n",
    "print(f\"For this dataset, dev examples have input keys {dev_example.inputs().keys()} and label keys {dev_example.labels().keys()}\")"
   ]
  },
  {
   "cell_type": "markdown",
   "metadata": {
    "id": "O3iiIhYWyN94"
   },
   "source": [
    "### Building Blocks"
   ]
  },
  {
   "cell_type": "markdown",
   "metadata": {
    "id": "IVtvNDlPyN95"
   },
   "source": [
    "##### Using the Language Model: **Signatures** & **Predictors**\n",
    "\n",
    "Every call to the LM in a **DSPy** program needs to have a **Signature**.\n",
    "\n",
    "A signature consists of three simple elements:\n",
    "\n",
    "- A minimal description of the sub-task the LM is supposed to solve.\n",
    "- A description of one or more input fields (e.g., input question) that we will give to the LM.\n",
    "- A description of one or more output fields (e.g., the question's answer) that we will expect from the LM.\n",
    "\n",
    "Let's define a simple signature for basic question answering."
   ]
  },
  {
   "cell_type": "code",
   "execution_count": 15,
   "metadata": {
    "id": "GqQws2wNyN95"
   },
   "outputs": [],
   "source": [
    "class BasicQA(dspy.Signature):\n",
    "    \"\"\"Answer questions with short factoid answers.\"\"\"\n",
    "\n",
    "    question = dspy.InputField()\n",
    "    answer = dspy.OutputField(desc=\"often between 1 and 5 words\")"
   ]
  },
  {
   "cell_type": "markdown",
   "metadata": {
    "id": "1CR891bHyN95"
   },
   "source": [
    "In `BasicQA`, the docstring describes the sub-task here (i.e., answering questions). Each `InputField` or `OutputField` can optionally contain a description `desc` too. When it's not given, it's inferred from the field's name (e.g., `question`).\n",
    "\n",
    "Notice that there isn't anything special about this signature in **DSPy**. We can just as easily define a signature that takes a long snippet from a PDF and outputs structured information, for instance.\n",
    "\n",
    "Anyway, now that we have a signature, let's define and use a **Predictor**. A predictor is a module that knows how to use the LM to implement a signature. Importantly, predictors can **learn** to fit their behavior to the task!"
   ]
  },
  {
   "cell_type": "code",
   "execution_count": 16,
   "metadata": {
    "colab": {
     "base_uri": "https://localhost:8080/"
    },
    "id": "YX8oJSsLyN95",
    "outputId": "1cdcd32a-b12a-47cb-a5e9-86383d1a60bf"
   },
   "outputs": [
    {
     "name": "stderr",
     "output_type": "stream",
     "text": [
      "WARNING:root:\t*** In DSPy 2.5, all LM clients except `dspy.LM` are deprecated, underperform, and are about to be deleted. ***\n",
      " \t\tYou are using the client GroqLM, which will be removed in DSPy 2.6.\n",
      " \t\tChanging the client is straightforward and will let you use new features (Adapters) that improve the consistency of LM outputs, especially when using chat LMs. \n",
      "\n",
      " \t\tLearn more about the changes and how to migrate at\n",
      " \t\thttps://github.com/stanfordnlp/dspy/blob/main/examples/migration.ipynb\n"
     ]
    },
    {
     "name": "stdout",
     "output_type": "stream",
     "text": [
      "Question: What criticism deserves the movie Passion of Christ by Mel Gibson?\n",
      "Predicted Answer: Anti-Semitic backlash.\n"
     ]
    }
   ],
   "source": [
    "# Define the predictor.\n",
    "generate_answer = dspy.Predict(BasicQA)\n",
    "\n",
    "# Call the predictor on a particular input.\n",
    "pred = generate_answer(question=dev_example.question,context = dev_example.context)\n",
    "\n",
    "# Print the input and the prediction.\n",
    "print(f\"Question: {dev_example.question}\")\n",
    "print(f\"Predicted Answer: {pred.answer}\")"
   ]
  },
  {
   "cell_type": "code",
   "execution_count": 18,
   "metadata": {
    "colab": {
     "base_uri": "https://localhost:8080/"
    },
    "id": "ClwGPhnLyN95",
    "outputId": "08a9b4a7-4f4d-4ad8-d8fd-239c8f761ca5"
   },
   "outputs": [
    {
     "name": "stdout",
     "output_type": "stream",
     "text": [
      "\n",
      "\n",
      "\n",
      "Answer questions with short factoid answers.\n",
      "\n",
      "---\n",
      "\n",
      "Follow the following format.\n",
      "\n",
      "Question: ${question}\n",
      "Answer: often between 1 and 5 words\n",
      "\n",
      "---\n",
      "\n",
      "Question: What criticism deserves the movie Passion of Christ by Mel Gibson?\n",
      "Answer:\u001b[32m Anti-Semitic backlash.\u001b[0m\n",
      "\n",
      "\n",
      "\n"
     ]
    },
    {
     "data": {
      "text/plain": [
       "'\\n\\n\\nAnswer questions with short factoid answers.\\n\\n---\\n\\nFollow the following format.\\n\\nQuestion: ${question}\\nAnswer: often between 1 and 5 words\\n\\n---\\n\\nQuestion: What criticism deserves the movie Passion of Christ by Mel Gibson?\\nAnswer:\\x1b[32m Anti-Semitic backlash.\\x1b[0m\\n\\n\\n'"
      ]
     },
     "execution_count": 18,
     "metadata": {},
     "output_type": "execute_result"
    }
   ],
   "source": [
    "lm.inspect_history(n=1)"
   ]
  },
  {
   "cell_type": "code",
   "execution_count": 19,
   "metadata": {
    "colab": {
     "base_uri": "https://localhost:8080/"
    },
    "id": "Rp4y0x9iyN95",
    "outputId": "4b19b788-8d02-45cc-f230-be971b39df86"
   },
   "outputs": [
    {
     "name": "stdout",
     "output_type": "stream",
     "text": [
      "Question: What criticism deserves the movie Passion of Christ by Mel Gibson?\n",
      "Thought: What criticism deserves the movie Passion of Christ by Mel Gibson?\n",
      "Reasoning: Let's think step by step in order to consider the controversy surrounding the film's depiction of violence and its perceived anti-Semitic themes.\n",
      "Predicted Answer: Anti-Semitic backlash.\n"
     ]
    }
   ],
   "source": [
    "# Define the predictor. Notice we're just changing the class. The signature BasicQA is unchanged.\n",
    "generate_answer_with_chain_of_thought = dspy.ChainOfThought(BasicQA)\n",
    "\n",
    "# Call the predictor on the same input.\n",
    "pred = generate_answer_with_chain_of_thought(question=dev_example.question)\n",
    "\n",
    "# Print the input, the chain of thought, and the prediction.\n",
    "print(f\"Question: {dev_example.question}\")\n",
    "print(f\"Thought: {pred.rationale.split(':', 1)[1].strip()}\")\n",
    "print(f\"Predicted Answer: {pred.answer}\")"
   ]
  },
  {
   "cell_type": "code",
   "execution_count": 20,
   "metadata": {
    "colab": {
     "base_uri": "https://localhost:8080/",
     "height": 35
    },
    "id": "fD_PGLw_3lqR",
    "outputId": "99c8cfde-cc75-42f2-bc23-31bd930ad4dd"
   },
   "outputs": [
    {
     "data": {
      "text/plain": [
       "\"Question: What criticism deserves the movie Passion of Christ by Mel Gibson?\\nReasoning: Let's think step by step in order to consider the controversy surrounding the film's depiction of violence and its perceived anti-Semitic themes.\""
      ]
     },
     "execution_count": 20,
     "metadata": {},
     "output_type": "execute_result"
    }
   ],
   "source": [
    "pred.rationale"
   ]
  },
  {
   "cell_type": "markdown",
   "metadata": {
    "id": "n3L70RWByN96"
   },
   "source": [
    "### Program 1: Basic Few Shot\n",
    "\n",
    "Let's define our first complete program for this task. We'll build a few-shot pipeline for answer generation.\n",
    "\n",
    "\n",
    "Let's start by defining this signature: `context, question --> answer`."
   ]
  },
  {
   "cell_type": "code",
   "execution_count": 21,
   "metadata": {
    "id": "QFsb4pdGyN96"
   },
   "outputs": [],
   "source": [
    "class GenerateAnswer(dspy.Signature):\n",
    "    \"\"\"Answer questions with short factoid answers.\"\"\"\n",
    "\n",
    "    context = dspy.InputField(desc=\"may contain relevant facts\")\n",
    "    question = dspy.InputField()\n",
    "    answer = dspy.OutputField(desc=\"often between 1 and 5 words\")"
   ]
  },
  {
   "cell_type": "markdown",
   "metadata": {
    "id": "_1bH4CLbyN96"
   },
   "source": [
    "Great. Now let's define the actual program. This is a class that inherits from `dspy.Module`.\n",
    "\n",
    "It needs two methods:\n",
    "\n",
    "- The `__init__` method will simply declare the sub-modules it needs: `dspy.Retrieve` and `dspy.ChainOfThought`. The latter is defined to implement our `GenerateAnswer` signature.\n",
    "- The `forward` method will describe the control flow of answering the question using the modules we have."
   ]
  },
  {
   "cell_type": "code",
   "execution_count": 22,
   "metadata": {
    "id": "tIfHEYKqyN97"
   },
   "outputs": [],
   "source": [
    "class fs(dspy.Module):\n",
    "    def __init__(self, num_passages=3):\n",
    "        super().__init__()\n",
    "\n",
    "        #self.retrieve = dspy.Retrieve(k=num_passages)\n",
    "        self.generate_answer = dspy.ChainOfThought(GenerateAnswer)\n",
    "\n",
    "    def forward(self, question,context):\n",
    "        #context = self.retrieve(question).passages\n",
    "        prediction = self.generate_answer(context=context, question=question)\n",
    "        return dspy.Prediction(context=context, answer=prediction.answer)"
   ]
  },
  {
   "cell_type": "markdown",
   "metadata": {
    "id": "v_T0-2lVyN97"
   },
   "source": [
    "##### Compiling the few shot program\n",
    "\n",
    "Having defined this program, let's now **compile** it. Compiling a program will update the parameters stored in each module. In our setting, this is primarily in the form of collecting and selecting good demonstrations for inclusion in your prompt(s).\n",
    "\n",
    "Compiling depends on three things:\n",
    "\n",
    "1. **A training set.** We'll just use our 20 question–answer examples from `trainset` above.\n",
    "1. **A metric for validation.** We'll define a quick `validate_answer` that checks that the predicted answer is correct. It'll also check that the retrieved context does actually contain that answer.\n",
    "1. **A specific teleprompter.** The **DSPy** compiler includes a number of **teleprompters** that can optimize your programs."
   ]
  },
  {
   "cell_type": "markdown",
   "metadata": {
    "id": "0dumNfeZyN97"
   },
   "source": [
    "**Teleprompters:** Teleprompters are powerful optimizers that can take any program and learn to bootstrap and select effective prompts for its modules. Hence the name, which means \"prompting at a distance\".\n",
    "\n",
    "Different teleprompters offer various tradeoffs in terms of how much they optimize cost versus quality, etc. We will use a simple default `BootstrapFewShot` in this notebook.\n",
    "\n",
    "\n",
    "_If you're into analogies, you could think of this as your training data, your loss function, and your optimizer in a standard DNN supervised learning setup. Whereas SGD is a basic optimizer, there are more sophisticated (and more expensive!) ones like Adam or RMSProp._"
   ]
  },
  {
   "cell_type": "code",
   "execution_count": 23,
   "metadata": {
    "colab": {
     "base_uri": "https://localhost:8080/"
    },
    "id": "7vkbHC10yN97",
    "outputId": "25605dc6-c497-44c7-d3c7-a397ebc34f7f"
   },
   "outputs": [
    {
     "name": "stderr",
     "output_type": "stream",
     "text": [
      "100%|██████████| 4/4 [00:05<00:00,  1.45s/it]"
     ]
    },
    {
     "name": "stdout",
     "output_type": "stream",
     "text": [
      "Bootstrapped 0 full traces after 3 examples for up to 1 rounds, amounting to 4 attempts.\n"
     ]
    },
    {
     "name": "stderr",
     "output_type": "stream",
     "text": [
      "\n"
     ]
    }
   ],
   "source": [
    "from dspy.teleprompt import BootstrapFewShot\n",
    "\n",
    "# Validation logic: check that the predicted answer is correct.\n",
    "# Also check that the retrieved context does actually contain that answer.\n",
    "def validate_answer(example, pred, trace=None):\n",
    "    answer_EM = dspy.evaluate.answer_exact_match(example, pred)\n",
    "    #answer_PM = dspy.evaluate.answer_passage_match(example, pred)\n",
    "    return answer_EM\n",
    "\n",
    "# Set up a basic teleprompter, which will compile our program.\n",
    "teleprompter = BootstrapFewShot(metric=validate_answer)\n",
    "\n",
    "# Compile!\n",
    "compiled_fs = teleprompter.compile(fs(), trainset=trainset)"
   ]
  },
  {
   "cell_type": "markdown",
   "metadata": {
    "id": "UYKaAjcUyN9-"
   },
   "source": [
    "Now that we've compiled our program, let's try it out."
   ]
  },
  {
   "cell_type": "code",
   "execution_count": 24,
   "metadata": {
    "colab": {
     "base_uri": "https://localhost:8080/"
    },
    "id": "vIl7EQACyN9-",
    "outputId": "edb6a49b-797c-4ab5-9467-604e4f6d7cb5"
   },
   "outputs": [
    {
     "name": "stdout",
     "output_type": "stream",
     "text": [
      "Question: Do you like Avocados?\n",
      "Predicted Answer: I apologize, but it seems that the context provided is a review of a movie, and the question is not related to the movie. Therefore, I cannot provide an answer to the question \"Do you like Avocados?\" as it is not relevant to the context.\n",
      "Retrieved Contexts: Revenge of the Sith is for children and for adults with the minds of children.  To a grownup, this movie is moronic and boring.The only good part of the movie is the very end when we see the birth of Princess Leia and her twin brother Luke Skywalker, and they are placed in foster homes because their mom is dead and their dad is the enemy.  The babies are cute, and you really can't lose by showing newborn babies.Aside from that, this movie is horrible.  The fight scenes are worse than kung fu flicks with idiots hopping around like bunnies.  The acting, particularly that of Anakin Skywalker, is really juvenile and pathetic.  The writing is worst of all.  The writing really deserves to be punished.  The screenwriter deserves a good whipping for this garbage.Anakin and Obiwan Kenobi are in another stupid fight, when suddenly Obiwan lands on higher ground and tells Anakin to give it up because it is hopeless since he is on higher ground.  Hahahaha.  What idiot thought of that?  They just needed an excuse to have Obiwan win the fight, so they made up that nonsense.  Does the public really buy that?  How many times in this same movie do people jump around from lower to higher ground and vice versa?  Oh my god is this a STUPID film.I knew it was going to be utterly stupid very early on, when the two jedi were about to enter an air battle in their planes, and one of them put a smile on his face and said This is where the fun starts.  In other words, as we well know, there is absolutely no doubt who will win, because at this stage of the movie the good guys win, and there isn't even any tension in a battle, it's just a ballgame.  Remove all realism from the script, why don't you.Another utterly stupid bit of writing, considering that this silly flick is targeted for children, is to have the only female in the cast die in childbirth.  Great.  Take your young daughters to see it.  They will have this to identify with and remember the rest of their lives.  When your target audience is young children, as the target is for this film because anyone who is not a baby will see how moronic it is, why do you want to scare the Bejesus out of the little girls in the theatre regarding having children of their own?It's a shame that instead of being punished for this garbage, the people responsible for this movie actually got paid for it. ANSWERNOTFOUND\n"
     ]
    }
   ],
   "source": [
    "# Ask any question you like to this simple few-shot program.\n",
    "\n",
    "\n",
    "my_question = \"Do you like Avocados?\"\n",
    "context = dev_example.context\n",
    "\n",
    "# Get the prediction. This contains `pred.context` and `pred.answer`.\n",
    "pred = compiled_fs(my_question,context)\n",
    "\n",
    "# Print the contexts and the answer.\n",
    "print(f\"Question: {my_question}\")\n",
    "print(f\"Predicted Answer: {pred.answer}\")\n",
    "print(f\"Retrieved Contexts: {pred.context}\")"
   ]
  },
  {
   "cell_type": "markdown",
   "metadata": {
    "id": "7XjVtAaiyN9-"
   },
   "source": [
    "Excellent. How about we inspect the last prompt for the LM?"
   ]
  },
  {
   "cell_type": "code",
   "execution_count": 25,
   "metadata": {
    "colab": {
     "base_uri": "https://localhost:8080/"
    },
    "id": "y1Ftc9VmyN9-",
    "outputId": "793edde1-5f8b-4d83-9605-f8bd2d39c682"
   },
   "outputs": [
    {
     "name": "stdout",
     "output_type": "stream",
     "text": [
      "\n",
      "\n",
      "\n",
      "Answer questions with short factoid answers.\n",
      "\n",
      "---\n",
      "\n",
      "Context: An outstanding romantic comedy, 13 Going on 30, brings to the screen exactly what the title implies: the story of a 13-year old girl who has her wish fulfilled and wakes up seven years later in the body of her 30-year old self!13 Going on 30 is based on the hit 80's movie \"BIG\" starring Tom Hanks, and it is a film about human relations, hope and second chances, but most importantly about trust, love, and inner strength.Jennifer Garner (who is ABSOLUTELY GORGEOUS!!!), Mark Rufallo, Andy Serkis, and the rest of the cast, have outdone themselves with their performances, which are exceptional to say the least.  All the actors, without exceptions, give it their 100% and it really shows (the chemistry is AMAZING)! Very well written and very well presented, the movie is without a doubt guaranteed to provide more than just a few laughs, not to mention a few tears.  The film is simple enough, but does a great job of describing people's (young and adult alike) every day lives and the problems they face.  It just goes to show that simplicity is often far better than complexity, when trying to present issues of a human nature.In short, 13 Going on 30 is a movie definitely worth watching! ANSWERNOTFOUND\n",
      "Question: Can we enjoy the movie along with our family ?\n",
      "Answer: ANSWERNOTFOUND\n",
      "\n",
      "Context: Whether it be in her portrayal of a nerdy lesbian or a punk rock rebel, Maslany's plural personalities, (though very stereotypical), are entertaining eye-candy. Combined with a complex and unpredictable plot line, this show is surprisingly addictive. ANSWERNOTFOUND\n",
      "Question: Who is the author of this series?\n",
      "Answer: ANSWERNOTFOUND\n",
      "\n",
      "Context: \"Fright Night\" is great! This is how the story goes: Senior Charley Brewster finally has it all -- he's running with the popular crowd and dating the hottest girl in high school. In fact, he's so cool he's even dissing his best friend Ed. But trouble arrives when an intriguing stranger Jerry moves in next door. He seems like a great guy at first, but there's something not quite right -- and everyone, including Charley's mom, doesn't notice. After witnessing some very unusual activity, Charley comes to an unmistakable conclusion: Jerry is a vampire preying on his neighborhood. Unable to convince anyone that he's telling the truth, Charley has to find a way to get rid of the monster himself.The cast led by Anton Yelchin (as Charley Brewster) & Colin Farrell (as Jerry) is great. The directing by Craig Gillespie is great. The story by Tom Holland (based on his original 1985 \"Fright Night\") & the screenplay by Marti Noxon is great.The music by Ramin Djawadi is great. The cinematography by Javier Aguirresarobe is great. The film editing by Tatiana S. Riegel is great. The casting by Allison Jones is great. The production design by Richard Bridgland is great. The art direction by Randy Moore is great. The set decoration by K.C. Fox is great. The costume design by Susan Matheson is great. The make-up effects by Gregory Nicotero & Howard Berger is great.This is another great horror remake that is just as great as its original. This is a fun, fast-paced and entertaining ride that keeps your heart racing and your heart thinking at the same time. This is a great vampire film. Colin Farrell is great as Jerry. ANSWERNOTFOUND\n",
      "Question: How is the costume design?\n",
      "Answer: The costume design by Susan Matheson is great\n",
      "\n",
      "Context: At the time of my review, there had been 910 customer reviews.  Of these, there were 10 one-star, 10 two-star, 8 three-star, 34 four-star and 848 five-star reviews.  I know that you can't please everybody, but it's obvious how people feel about this show.  And I have to vote with the majority...this show is OUTSTANDING! ANSWERNOTFOUND\n",
      "Question: Is this series good and excelent?\n",
      "Answer: this show is OUTSTANDING\n",
      "\n",
      "---\n",
      "\n",
      "Follow the following format.\n",
      "\n",
      "Context: may contain relevant facts\n",
      "\n",
      "Question: ${question}\n",
      "\n",
      "Reasoning: Let's think step by step in order to ${produce the answer}. We ...\n",
      "\n",
      "Answer: often between 1 and 5 words\n",
      "\n",
      "---\n",
      "\n",
      "Context: Revenge of the Sith is for children and for adults with the minds of children.  To a grownup, this movie is moronic and boring.The only good part of the movie is the very end when we see the birth of Princess Leia and her twin brother Luke Skywalker, and they are placed in foster homes because their mom is dead and their dad is the enemy.  The babies are cute, and you really can't lose by showing newborn babies.Aside from that, this movie is horrible.  The fight scenes are worse than kung fu flicks with idiots hopping around like bunnies.  The acting, particularly that of Anakin Skywalker, is really juvenile and pathetic.  The writing is worst of all.  The writing really deserves to be punished.  The screenwriter deserves a good whipping for this garbage.Anakin and Obiwan Kenobi are in another stupid fight, when suddenly Obiwan lands on higher ground and tells Anakin to give it up because it is hopeless since he is on higher ground.  Hahahaha.  What idiot thought of that?  They just needed an excuse to have Obiwan win the fight, so they made up that nonsense.  Does the public really buy that?  How many times in this same movie do people jump around from lower to higher ground and vice versa?  Oh my god is this a STUPID film.I knew it was going to be utterly stupid very early on, when the two jedi were about to enter an air battle in their planes, and one of them put a smile on his face and said This is where the fun starts.  In other words, as we well know, there is absolutely no doubt who will win, because at this stage of the movie the good guys win, and there isn't even any tension in a battle, it's just a ballgame.  Remove all realism from the script, why don't you.Another utterly stupid bit of writing, considering that this silly flick is targeted for children, is to have the only female in the cast die in childbirth.  Great.  Take your young daughters to see it.  They will have this to identify with and remember the rest of their lives.  When your target audience is young children, as the target is for this film because anyone who is not a baby will see how moronic it is, why do you want to scare the Bejesus out of the little girls in the theatre regarding having children of their own?It's a shame that instead of being punished for this garbage, the people responsible for this movie actually got paid for it. ANSWERNOTFOUND\n",
      "\n",
      "Question: Do you like Avocados?\n",
      "\n",
      "Reasoning: Let's think step by step in order to I apologize, but it seems that the context provided is a review of a movie, and the question is not related to the movie. Therefore, I cannot provide an answer to the question \"Do you like Avocados?\" as it is not relevant to the context. However, if you'd like to provide a new question that is relevant to the context, I'd be happy to help!\n",
      "\n",
      "Answer:\u001b[32m I apologize, but it seems that the context provided is a review of a movie, and the question is not related to the movie. Therefore, I cannot provide an answer to the question \"Do you like Avocados?\" as it is not relevant to the context.\u001b[0m\n",
      "\n",
      "\n",
      "\n"
     ]
    },
    {
     "data": {
      "text/plain": [
       "'\\n\\n\\nAnswer questions with short factoid answers.\\n\\n---\\n\\nContext: An outstanding romantic comedy, 13 Going on 30, brings to the screen exactly what the title implies: the story of a 13-year old girl who has her wish fulfilled and wakes up seven years later in the body of her 30-year old self!13 Going on 30 is based on the hit 80\\'s movie \"BIG\" starring Tom Hanks, and it is a film about human relations, hope and second chances, but most importantly about trust, love, and inner strength.Jennifer Garner (who is ABSOLUTELY GORGEOUS!!!), Mark Rufallo, Andy Serkis, and the rest of the cast, have outdone themselves with their performances, which are exceptional to say the least.  All the actors, without exceptions, give it their 100% and it really shows (the chemistry is AMAZING)! Very well written and very well presented, the movie is without a doubt guaranteed to provide more than just a few laughs, not to mention a few tears.  The film is simple enough, but does a great job of describing people\\'s (young and adult alike) every day lives and the problems they face.  It just goes to show that simplicity is often far better than complexity, when trying to present issues of a human nature.In short, 13 Going on 30 is a movie definitely worth watching! ANSWERNOTFOUND\\nQuestion: Can we enjoy the movie along with our family ?\\nAnswer: ANSWERNOTFOUND\\n\\nContext: Whether it be in her portrayal of a nerdy lesbian or a punk rock rebel, Maslany\\'s plural personalities, (though very stereotypical), are entertaining eye-candy. Combined with a complex and unpredictable plot line, this show is surprisingly addictive. ANSWERNOTFOUND\\nQuestion: Who is the author of this series?\\nAnswer: ANSWERNOTFOUND\\n\\nContext: \"Fright Night\" is great! This is how the story goes: Senior Charley Brewster finally has it all -- he\\'s running with the popular crowd and dating the hottest girl in high school. In fact, he\\'s so cool he\\'s even dissing his best friend Ed. But trouble arrives when an intriguing stranger Jerry moves in next door. He seems like a great guy at first, but there\\'s something not quite right -- and everyone, including Charley\\'s mom, doesn\\'t notice. After witnessing some very unusual activity, Charley comes to an unmistakable conclusion: Jerry is a vampire preying on his neighborhood. Unable to convince anyone that he\\'s telling the truth, Charley has to find a way to get rid of the monster himself.The cast led by Anton Yelchin (as Charley Brewster) & Colin Farrell (as Jerry) is great. The directing by Craig Gillespie is great. The story by Tom Holland (based on his original 1985 \"Fright Night\") & the screenplay by Marti Noxon is great.The music by Ramin Djawadi is great. The cinematography by Javier Aguirresarobe is great. The film editing by Tatiana S. Riegel is great. The casting by Allison Jones is great. The production design by Richard Bridgland is great. The art direction by Randy Moore is great. The set decoration by K.C. Fox is great. The costume design by Susan Matheson is great. The make-up effects by Gregory Nicotero & Howard Berger is great.This is another great horror remake that is just as great as its original. This is a fun, fast-paced and entertaining ride that keeps your heart racing and your heart thinking at the same time. This is a great vampire film. Colin Farrell is great as Jerry. ANSWERNOTFOUND\\nQuestion: How is the costume design?\\nAnswer: The costume design by Susan Matheson is great\\n\\nContext: At the time of my review, there had been 910 customer reviews.  Of these, there were 10 one-star, 10 two-star, 8 three-star, 34 four-star and 848 five-star reviews.  I know that you can\\'t please everybody, but it\\'s obvious how people feel about this show.  And I have to vote with the majority...this show is OUTSTANDING! ANSWERNOTFOUND\\nQuestion: Is this series good and excelent?\\nAnswer: this show is OUTSTANDING\\n\\n---\\n\\nFollow the following format.\\n\\nContext: may contain relevant facts\\n\\nQuestion: ${question}\\n\\nReasoning: Let\\'s think step by step in order to ${produce the answer}. We ...\\n\\nAnswer: often between 1 and 5 words\\n\\n---\\n\\nContext: Revenge of the Sith is for children and for adults with the minds of children.  To a grownup, this movie is moronic and boring.The only good part of the movie is the very end when we see the birth of Princess Leia and her twin brother Luke Skywalker, and they are placed in foster homes because their mom is dead and their dad is the enemy.  The babies are cute, and you really can\\'t lose by showing newborn babies.Aside from that, this movie is horrible.  The fight scenes are worse than kung fu flicks with idiots hopping around like bunnies.  The acting, particularly that of Anakin Skywalker, is really juvenile and pathetic.  The writing is worst of all.  The writing really deserves to be punished.  The screenwriter deserves a good whipping for this garbage.Anakin and Obiwan Kenobi are in another stupid fight, when suddenly Obiwan lands on higher ground and tells Anakin to give it up because it is hopeless since he is on higher ground.  Hahahaha.  What idiot thought of that?  They just needed an excuse to have Obiwan win the fight, so they made up that nonsense.  Does the public really buy that?  How many times in this same movie do people jump around from lower to higher ground and vice versa?  Oh my god is this a STUPID film.I knew it was going to be utterly stupid very early on, when the two jedi were about to enter an air battle in their planes, and one of them put a smile on his face and said This is where the fun starts.  In other words, as we well know, there is absolutely no doubt who will win, because at this stage of the movie the good guys win, and there isn\\'t even any tension in a battle, it\\'s just a ballgame.  Remove all realism from the script, why don\\'t you.Another utterly stupid bit of writing, considering that this silly flick is targeted for children, is to have the only female in the cast die in childbirth.  Great.  Take your young daughters to see it.  They will have this to identify with and remember the rest of their lives.  When your target audience is young children, as the target is for this film because anyone who is not a baby will see how moronic it is, why do you want to scare the Bejesus out of the little girls in the theatre regarding having children of their own?It\\'s a shame that instead of being punished for this garbage, the people responsible for this movie actually got paid for it. ANSWERNOTFOUND\\n\\nQuestion: Do you like Avocados?\\n\\nReasoning: Let\\'s think step by step in order to I apologize, but it seems that the context provided is a review of a movie, and the question is not related to the movie. Therefore, I cannot provide an answer to the question \"Do you like Avocados?\" as it is not relevant to the context. However, if you\\'d like to provide a new question that is relevant to the context, I\\'d be happy to help!\\n\\nAnswer:\\x1b[32m I apologize, but it seems that the context provided is a review of a movie, and the question is not related to the movie. Therefore, I cannot provide an answer to the question \"Do you like Avocados?\" as it is not relevant to the context.\\x1b[0m\\n\\n\\n'"
      ]
     },
     "execution_count": 25,
     "metadata": {},
     "output_type": "execute_result"
    }
   ],
   "source": [
    "lm.inspect_history(n=1)"
   ]
  }
 ],
 "metadata": {
  "colab": {
   "provenance": []
  },
  "kernelspec": {
   "display_name": "DSPy",
   "language": "python",
   "name": "python3"
  },
  "language_info": {
   "codemirror_mode": {
    "name": "ipython",
    "version": 3
   },
   "file_extension": ".py",
   "mimetype": "text/x-python",
   "name": "python",
   "nbconvert_exporter": "python",
   "pygments_lexer": "ipython3",
   "version": "3.11.10"
  }
 },
 "nbformat": 4,
 "nbformat_minor": 0
}
